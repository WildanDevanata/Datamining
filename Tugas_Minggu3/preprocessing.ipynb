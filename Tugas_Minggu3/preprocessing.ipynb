{
 "cells": [
  {
   "cell_type": "code",
   "execution_count": 31,
   "metadata": {},
   "outputs": [],
   "source": [
    "# Langkah 1: Mengimpor library yang dibutuhkan\n",
    "import numpy as np\n",
    "import matplotlib.pyplot as plt\n",
    "import pandas as pd"
   ]
  },
  {
   "cell_type": "code",
   "execution_count": 32,
   "metadata": {},
   "outputs": [],
   "source": [
    "# Langkah 2: Membaca dataset dari file CSV\n",
    "dataset = pd.read_csv('500_Person_Gender_Height_Weight_Index.csv')"
   ]
  },
  {
   "cell_type": "code",
   "execution_count": 33,
   "metadata": {},
   "outputs": [
    {
     "name": "stdout",
     "output_type": "stream",
     "text": [
      "\n",
      "Fitur (X) adalah semua kolom kecuali kolom terakhir:\n",
      " [['Male' 174.0 nan]\n",
      " ['Male' 189.0 87.0]\n",
      " ['Female' 185.0 110.0]\n",
      " ['Female' nan 104.0]\n",
      " ['Male' 149.0 61.0]\n",
      " ['Male' 189.0 104.0]\n",
      " ['Male' 147.0 92.0]\n",
      " ['Male' nan 111.0]\n",
      " ['Male' 174.0 90.0]\n",
      " ['Female' 169.0 103.0]]\n",
      "\n",
      "Label (y) adalah kolom terakhir ('Index'):\n",
      " [4 2 4 3 3 3 5 5 3 4]\n"
     ]
    }
   ],
   "source": [
    "# Langkah 3: Memisahkan fitur (X) dan label (y)\n",
    "# Fitur (X) mencakup semua kolom kecuali kolom terakhir\n",
    "# Label (y) adalah kolom terakhir ('Index')\n",
    "x = dataset.iloc[:, :-1].values  # Fitur\n",
    "y = dataset.iloc[:, -1].values   # Label\n",
    "\n",
    "print(\"\\nFitur (X) adalah semua kolom kecuali kolom terakhir:\\n\", x[:10])\n",
    "print(\"\\nLabel (y) adalah kolom terakhir ('Index'):\\n\", y[:10])"
   ]
  },
  {
   "cell_type": "code",
   "execution_count": 34,
   "metadata": {},
   "outputs": [],
   "source": [
    "# Langkah 4: Mengisi missing values (NaN) pada kolom tinggi dan berat badan dengan mean\n",
    "from sklearn.impute import SimpleImputer\n",
    "imputer = SimpleImputer(missing_values=np.nan, strategy='mean')\n",
    "x[:, 1:3] = imputer.fit_transform(x[:, 1:3])  # Mengisi kolom tinggi dan berat dengan mean"
   ]
  },
  {
   "cell_type": "code",
   "execution_count": 42,
   "metadata": {},
   "outputs": [
    {
     "name": "stdout",
     "output_type": "stream",
     "text": [
      "\n",
      "Fitur (X) diubah ke numerik \n",
      " [[1.0 0.0 1.0 0.0 1.0 174.0 105.1304347826087]\n",
      " [1.0 0.0 1.0 0.0 1.0 189.0 87.0]\n",
      " [0.0 1.0 0.0 1.0 0.0 185.0 110.0]\n",
      " [0.0 1.0 0.0 1.0 0.0 169.43478260869566 104.0]\n",
      " [1.0 0.0 1.0 0.0 1.0 149.0 61.0]\n",
      " [1.0 0.0 1.0 0.0 1.0 189.0 104.0]\n",
      " [1.0 0.0 1.0 0.0 1.0 147.0 92.0]\n",
      " [1.0 0.0 1.0 0.0 1.0 169.43478260869566 111.0]\n",
      " [1.0 0.0 1.0 0.0 1.0 174.0 90.0]\n",
      " [0.0 1.0 0.0 1.0 0.0 169.0 103.0]]\n"
     ]
    }
   ],
   "source": [
    "# Langkah 5: Encoding data kategori pada kolom 'Gender' menggunakan OneHotEncoder dan ColumnTransformer\n",
    "from sklearn.compose import ColumnTransformer\n",
    "from sklearn.preprocessing import OneHotEncoder\n",
    "\n",
    "# Membuat ColumnTransformer untuk menerapkan OneHotEncoder pada kolom pertama\n",
    "ct = ColumnTransformer( transformers=[('onehot', OneHotEncoder(), [0])  # Kolom 'Gender' ada di indeks 0\n",
    "], remainder='passthrough'  # Menyimpan kolom lainnya (Height dan Weight)\n",
    ")\n",
    "\n",
    "# Mengaplikasikan ColumnTransformer ke X\n",
    "x = np.array(ct.fit_transform(x))\n",
    "\n",
    "print(\"\\nFitur (X) diubah ke numerik \\n\",x[:10])"
   ]
  },
  {
   "cell_type": "code",
   "execution_count": 36,
   "metadata": {},
   "outputs": [],
   "source": [
    "# Langkah 6: Mengubah nilai y menjadi kategori obesitas yang diinginkan\n",
    "y = np.where(y == 0, 'Extremely Weak',\n",
    "    np.where(y == 1, 'Weak',\n",
    "    np.where(y == 2, 'Normal',\n",
    "    np.where(y == 3, 'Overweight',\n",
    "    np.where(y == 4, 'Obesity',\n",
    "    np.where(y == 5, 'Extreme Obesity', 'Unknown')))))) # Mengatasi nilai yang tidak terduga"
   ]
  },
  {
   "cell_type": "code",
   "execution_count": 37,
   "metadata": {},
   "outputs": [
    {
     "name": "stdout",
     "output_type": "stream",
     "text": [
      "\n",
      "Label setelah encoding:\n",
      " [2 1 2 3 3 3 0 0 3 2 1 2 3 1 1 0 0 0 0 0 0 0 2 0 1 3 3 4 0 0 0 4 4 0 0 2 3\n",
      " 2 0 1 2 0 1 0 2 1 2 2 3 0]\n"
     ]
    }
   ],
   "source": [
    "# Langkah 7: Encoding data kategori (Class / Label) dengan LabelEncoder\n",
    "from sklearn.preprocessing import LabelEncoder\n",
    "le = LabelEncoder()\n",
    "y = le.fit_transform(y)  # Encode label kategori menjadi angka\n",
    "\n",
    "# Menampilkan label yang telah di-encode\n",
    "print(\"\\nLabel setelah encoding:\\n\", y)\n"
   ]
  },
  {
   "cell_type": "code",
   "execution_count": 38,
   "metadata": {},
   "outputs": [
    {
     "name": "stdout",
     "output_type": "stream",
     "text": [
      "\n",
      "Training set (X):\n",
      " [[1.0 0.0 195.0 105.1304347826087]\n",
      " [1.0 0.0 185.0 81.0]\n",
      " [1.0 0.0 153.0 149.0]\n",
      " [1.0 0.0 197.0 114.0]\n",
      " [0.0 1.0 169.43478260869566 139.0]]\n",
      "\n",
      "Testing set (X):\n",
      " [[0.0 1.0 187.0 62.0]\n",
      " [1.0 0.0 189.0 132.0]\n",
      " [1.0 0.0 175.0 120.0]\n",
      " [1.0 0.0 171.0 152.0]\n",
      " [1.0 0.0 185.0 110.0]]\n",
      "\n",
      "Training labels (y):\n",
      " [4 1 0 3 0]\n",
      "\n",
      "Testing labels (y):\n",
      " [4 2 2 0 2]\n"
     ]
    }
   ],
   "source": [
    "# Langkah 8: Membagi dataset menjadi training set dan test set\n",
    "from sklearn.model_selection import train_test_split\n",
    "x_train, x_test, y_train, y_test = train_test_split(x, y, test_size=0.2, random_state=1)\n",
    "\n",
    "# Menampilkan dataset training dan testing\n",
    "print(\"\\nTraining set (X):\\n\", x_train[:5])  # Menampilkan 5 data pertama dari x_train\n",
    "print(\"\\nTesting set (X):\\n\", x_test[:5])    # Menampilkan 5 data pertama dari x_test\n",
    "print(\"\\nTraining labels (y):\\n\", y_train[:5])  # Menampilkan 5 label pertama dari y_train\n",
    "print(\"\\nTesting labels (y):\\n\", y_test[:5])    # Menampilkan 5 label pertama dari y_test"
   ]
  },
  {
   "cell_type": "code",
   "execution_count": 39,
   "metadata": {},
   "outputs": [
    {
     "name": "stdout",
     "output_type": "stream",
     "text": [
      "\n",
      "Fitur (X) setelah preprocessing (training set):\n",
      " [[1.0 -1.1631599960755996 1.6307246442000132 105.1304347826087]\n",
      " [1.0 -1.1631599960755996 1.043444180462437 81.0]\n",
      " [1.0 -1.1631599960755996 -0.8358533034978068 149.0]\n",
      " [1.0 -1.1631599960755996 1.7481807369475284 114.0]\n",
      " [0.0 0.8597269536210955 0.12932937168829683 139.0]\n",
      " [0.0 0.8597269536210955 -0.6009411180027764 56.0]\n",
      " [0.0 0.8597269536210955 -1.5993179063566558 152.0]\n",
      " [0.0 0.8597269536210955 1.337084412331225 95.0]\n",
      " [1.0 -1.1631599960755996 0.10379543848231504 97.0]\n",
      " [0.0 0.8597269536210955 -0.7183972107502916 51.0]]\n",
      "\n",
      "Fitur (X) setelah preprocessing (testing set):\n",
      " [[0.0 0.8597269536210955 1.1609002732099523 62.0]\n",
      " [1.0 -1.1631599960755996 1.2783563659574675 132.0]\n",
      " [1.0 -1.1631599960755996 0.4561637167248608 120.0]\n",
      " [1.0 -1.1631599960755996 0.22125153122983027 152.0]\n",
      " [1.0 -1.1631599960755996 1.043444180462437 110.0]\n",
      " [1.0 -1.1631599960755996 0.12932937168829683 104.0]\n",
      " [0.0 0.8597269536210955 -0.36602893250774593 72.0]\n",
      " [0.0 0.8597269536210955 0.6910759022198912 152.0]\n",
      " [1.0 -1.1631599960755996 1.2196283195837099 122.0]\n",
      " [0.0 0.8597269536210955 0.6323478558461336 52.0]]\n"
     ]
    }
   ],
   "source": [
    "# Langkah 9: Feature Scaling (gunakan StandardScaler)\n",
    "from sklearn.preprocessing import StandardScaler\n",
    "sc = StandardScaler()\n",
    "x_train[:, 1:3] = sc.fit_transform(x_train[:, 1:3])  # Melakukan scaling pada kolom tinggi dan berat\n",
    "x_test[:, 1:3] = sc.transform(x_test[:, 1:3])        # Melakukan scaling pada kolom tinggi dan berat\n",
    "\n",
    "# Menampilkan beberapa data hasil preprocessing\n",
    "print(\"\\nFitur (X) setelah preprocessing (training set):\\n\", x_train[:10])  # Menampilkan 5 data pertama dari x_train\n",
    "print(\"\\nFitur (X) setelah preprocessing (testing set):\\n\", x_test[:10])    # Menampilkan 5 data pertama dari x_test"
   ]
  }
 ],
 "metadata": {
  "language_info": {
   "name": "python"
  }
 },
 "nbformat": 4,
 "nbformat_minor": 2
}
